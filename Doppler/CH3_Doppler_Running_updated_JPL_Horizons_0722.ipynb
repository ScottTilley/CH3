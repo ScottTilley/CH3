{
 "cells": [
  {
   "cell_type": "code",
   "execution_count": 1,
   "metadata": {},
   "outputs": [],
   "source": [
    "%matplotlib inline\n",
    "import numpy as np\n",
    "import matplotlib.pyplot as plt\n",
    "from astropy.time import Time\n",
    "from scipy.constants import c\n",
    "from scipy.optimize import curve_fit\n",
    "\n",
    "#%matplotlib qt\n",
    "\n",
    "plt.rcParams['figure.figsize'] = [16, 9]\n",
    "plt.rcParams['figure.facecolor'] = 'w'"
   ]
  },
  {
   "cell_type": "markdown",
   "metadata": {},
   "source": [
    "offset =  600\n",
    "f_carrier = 2203.201e6 + offset"
   ]
  },
  {
   "cell_type": "code",
   "execution_count": 2,
   "metadata": {},
   "outputs": [],
   "source": [
    "data = np.fromfile('/media/scott/fast/1k/all_21.dat', sep = ' ').reshape((-1,4))\n",
    "t_data = Time(data[:,0], format = 'mjd')\n",
    "freq_data = data[:,1]\n",
    "amp_data = data[:,2]"
   ]
  },
  {
   "cell_type": "code",
   "execution_count": 3,
   "metadata": {},
   "outputs": [],
   "source": [
    "gmd_file = '/home/scott/Dropbox/satobs/ch3/ch3_jpl_0722.txt'\n",
    "gmd_mjd = []\n",
    "gmd_rangerate = []\n",
    "with open(gmd_file) as f:\n",
    "    for l in f.readlines()[0:]:\n",
    "        gmd_mjd.append(float(l.split()[0]))\n",
    "        gmd_rangerate.append(float(l.split()[-1]))\n",
    "gmd_mjd = np.array(gmd_mjd)\n",
    "gmd_mjd = gmd_mjd - 2400000.5\n",
    "gmd_rangerate = np.array(gmd_rangerate)\n",
    "\n",
    "#NOTE: 2022-12-09 - Found that this piece of code was set to scale = 'tai'! Changing this to 'utc' fixed the parobolic curve shape of the residuals and flattened them out.  I believe GMAT outputs TAI and Horizons UTC.\n",
    "t_gmd = Time(gmd_mjd , scale = 'utc', format = 'mjd')"
   ]
  },
  {
   "cell_type": "code",
   "execution_count": 4,
   "metadata": {},
   "outputs": [
    {
     "ename": "NameError",
     "evalue": "name 'f_carrier' is not defined",
     "output_type": "error",
     "traceback": [
      "\u001b[0;31m---------------------------------------------------------------------------\u001b[0m",
      "\u001b[0;31mNameError\u001b[0m                                 Traceback (most recent call last)",
      "\u001b[0;32m<ipython-input-4-95742369d655>\u001b[0m in \u001b[0;36m<module>\u001b[0;34m\u001b[0m\n\u001b[0;32m----> 1\u001b[0;31m \u001b[0mf_gmat\u001b[0m \u001b[0;34m=\u001b[0m \u001b[0mf_carrier\u001b[0m \u001b[0;34m*\u001b[0m \u001b[0;34m(\u001b[0m\u001b[0;36m1\u001b[0m \u001b[0;34m-\u001b[0m \u001b[0;36m1e3\u001b[0m\u001b[0;34m*\u001b[0m\u001b[0mgmd_rangerate\u001b[0m\u001b[0;34m/\u001b[0m\u001b[0mc\u001b[0m\u001b[0;34m)\u001b[0m\u001b[0;34m\u001b[0m\u001b[0;34m\u001b[0m\u001b[0m\n\u001b[0m\u001b[1;32m      2\u001b[0m \u001b[0;34m\u001b[0m\u001b[0m\n\u001b[1;32m      3\u001b[0m \u001b[0mrangerate_interp\u001b[0m \u001b[0;34m=\u001b[0m \u001b[0mnp\u001b[0m\u001b[0;34m.\u001b[0m\u001b[0minterp\u001b[0m\u001b[0;34m(\u001b[0m\u001b[0mt_data\u001b[0m\u001b[0;34m.\u001b[0m\u001b[0mutc\u001b[0m\u001b[0;34m.\u001b[0m\u001b[0mmjd\u001b[0m\u001b[0;34m,\u001b[0m \u001b[0mt_gmd\u001b[0m\u001b[0;34m.\u001b[0m\u001b[0mutc\u001b[0m\u001b[0;34m.\u001b[0m\u001b[0mmjd\u001b[0m\u001b[0;34m,\u001b[0m \u001b[0mgmd_rangerate\u001b[0m\u001b[0;34m)\u001b[0m\u001b[0;34m\u001b[0m\u001b[0;34m\u001b[0m\u001b[0m\n\u001b[1;32m      4\u001b[0m \u001b[0mfreq_gmat\u001b[0m \u001b[0;34m=\u001b[0m \u001b[0mf_carrier\u001b[0m \u001b[0;34m*\u001b[0m \u001b[0;34m(\u001b[0m\u001b[0;36m1\u001b[0m \u001b[0;34m-\u001b[0m \u001b[0;36m1e3\u001b[0m\u001b[0;34m*\u001b[0m\u001b[0mrangerate_interp\u001b[0m\u001b[0;34m/\u001b[0m\u001b[0mc\u001b[0m\u001b[0;34m)\u001b[0m\u001b[0;34m\u001b[0m\u001b[0;34m\u001b[0m\u001b[0m\n\u001b[1;32m      5\u001b[0m \u001b[0;34m\u001b[0m\u001b[0m\n",
      "\u001b[0;31mNameError\u001b[0m: name 'f_carrier' is not defined"
     ]
    }
   ],
   "source": [
    "f_gmat = f_carrier * (1 - 1e3*gmd_rangerate/c)\n",
    "\n",
    "rangerate_interp = np.interp(t_data.utc.mjd, t_gmd.utc.mjd, gmd_rangerate)\n",
    "freq_gmat = f_carrier * (1 - 1e3*rangerate_interp/c)\n",
    "\n",
    "Rr = (c * ((freq_data / f_carrier) -1))/-1000\n",
    "\n",
    "freq_diff = freq_data - freq_gmat\n",
    "np_diff = np.array(freq_diff)\n",
    "\n",
    "Rr_diff = Rr-rangerate_interp\n",
    "np_rrdiff = np.array(Rr_diff)"
   ]
  },
  {
   "cell_type": "code",
   "execution_count": null,
   "metadata": {},
   "outputs": [],
   "source": [
    "plt.plot(t_data.datetime,amp_data,'.',markersize=.1, alpha=1, label = 'VE7TIL data')\n",
    "plt.title('Chandrayaan-3 Arbitrary Signal Intesity [STRF sigma]\\n%s to %s'%(t_data.datetime[0].strftime('%Y-%m-%d'), t_data.datetime[len(freq_data)-1].strftime('%Y-%m-%d')))\n",
    "plt.ylabel('Arbitrary Intensity (STRF Sigma)')\n",
    "plt.xlabel('UTC time')\n",
    "plt.show();"
   ]
  },
  {
   "cell_type": "code",
   "execution_count": null,
   "metadata": {},
   "outputs": [],
   "source": [
    "plt.plot(t_gmd.datetime, f_gmat, markersize=1,alpha=1,label = 'JPL Horizons Prediction')\n",
    "plt.plot(t_data.datetime,freq_data,'.' ,markersize=5, alpha=2, label = 'VE7TIL Data %sHz Offset'%(offset))\n",
    "plt.title('Chandrayaan-3 Running Doppler Summary\\n%s to %s'%(t_data.datetime[0].strftime('%Y-%m-%d'), t_data.datetime[len(freq_data)-1].strftime('%Y-%m-%d')))\n",
    "plt.ylabel('Frequency (Hz)')\n",
    "plt.xlabel('UTC time')\n",
    "plt.legend()\n",
    "plt.show();"
   ]
  },
  {
   "cell_type": "code",
   "execution_count": null,
   "metadata": {},
   "outputs": [],
   "source": [
    "plt.ylim( np.max(-.1), np.min(.1))\n",
    "plt.plot(t_data.datetime, Rr - rangerate_interp,'.',markersize=1,  label = 'VE7TIL Residuals vs JPL Horizons Data')\n",
    "plt.title('Chandrayaan-3 Line of Sight Range-Rate Residuals Running Summary\\n%s to %s'%(t_data.datetime[0].strftime('%Y-%m-%d'), t_data.datetime[len(freq_data)-1].strftime('%Y-%m-%d')))\n",
    "plt.ylabel('Velocity (km/s)')\n",
    "plt.xlabel('UTC time')\n",
    "plt.legend()\n",
    "plt.show();"
   ]
  },
  {
   "cell_type": "code",
   "execution_count": null,
   "metadata": {},
   "outputs": [],
   "source": [
    "plt.ylim(-1000,1000)\n",
    "plt.plot(t_data.datetime, freq_data - freq_gmat,'.',markersize=1,  label = 'VE7TIL Residuals vs JPL Horizons Data')\n",
    "plt.title('Chandrayaan-3 Frequency Residuals\\n%s to %s'%(t_data.datetime[0].strftime('%Y-%m-%d'), t_data.datetime[len(freq_data)-1].strftime('%Y-%m-%d')))\n",
    "plt.ylabel('Frequency (Hz)')\n",
    "plt.xlabel('UTC time')\n",
    "plt.legend()\n",
    "plt.show();"
   ]
  },
  {
   "cell_type": "markdown",
   "metadata": {},
   "source": []
  },
  {
   "cell_type": "code",
   "execution_count": null,
   "metadata": {},
   "outputs": [],
   "source": []
  },
  {
   "cell_type": "code",
   "execution_count": null,
   "metadata": {},
   "outputs": [],
   "source": []
  },
  {
   "cell_type": "code",
   "execution_count": null,
   "metadata": {},
   "outputs": [],
   "source": []
  }
 ],
 "metadata": {
  "kernelspec": {
   "display_name": "Python 3",
   "language": "python",
   "name": "python3"
  },
  "language_info": {
   "codemirror_mode": {
    "name": "ipython",
    "version": 3
   },
   "file_extension": ".py",
   "mimetype": "text/x-python",
   "name": "python",
   "nbconvert_exporter": "python",
   "pygments_lexer": "ipython3",
   "version": "3.6.9"
  }
 },
 "nbformat": 4,
 "nbformat_minor": 4
}
